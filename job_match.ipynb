{
  "nbformat": 4,
  "nbformat_minor": 0,
  "metadata": {
    "colab": {
      "name": "Untitled2.ipynb",
      "provenance": []
    },
    "kernelspec": {
      "name": "python3",
      "display_name": "Python 3"
    }
  },
  "cells": [
    {
      "cell_type": "code",
      "metadata": {
        "id": "kg9MHdUSt6Jo",
        "colab_type": "code",
        "colab": {}
      },
      "source": [
        "import docx2txt\n",
        "from sklearn.feature_extraction.text import CountVectorizer\n",
        "from sklearn.metrics.pairwise import cosine_similarity\n",
        "import os\n",
        "from collections import Counter\n",
        "import tkinter as tk\n",
        "from tkinter.filedialog import askopenfilename\n",
        "\n",
        "# Store the resume in a variable\n",
        "file = askopenfilename()\n",
        "resume = docx2txt.process(file)\n",
        "\n",
        "# Print the resume\n",
        "#print(resume)\n",
        "stat = dict()\n",
        "\n",
        "for filename in os.listdir(\"./test_job\"):\n",
        "    # Store the job description into a variable\n",
        "    job_description = docx2txt.process(\"./test_job/\"+filename)\n",
        "\n",
        "    # Print the job description\n",
        "    # print(job_description)\n",
        "\n",
        "    # A list of text\n",
        "    text = [resume, job_description]\n",
        "\n",
        "    cv = CountVectorizer()\n",
        "    count_matrix = cv.fit_transform(text)\n",
        "\n",
        "    #Print the similarity scores\n",
        "    #print(\"\\nSimilarity Scores:\")\n",
        "    #print(cosine_similarity(count_matrix))\n",
        "\n",
        "    #get the match percentage\n",
        "    matchPercentage = cosine_similarity(count_matrix)[0][1] * 100\n",
        "    matchPercentage = round(matchPercentage, 2) # round to two decimal\n",
        "    stat[(file,filename)] = matchPercentage\n",
        "    print(\"Your resume matches about \"+ str(matchPercentage)+ \"% of the job description:\"+ filename)\n",
        "\n",
        "match = Counter(stat)\n",
        "top3 = match.most_common(3)\n",
        "print('Your top job recommendations are:',top3)"
      ],
      "execution_count": null,
      "outputs": []
    }
  ]
}